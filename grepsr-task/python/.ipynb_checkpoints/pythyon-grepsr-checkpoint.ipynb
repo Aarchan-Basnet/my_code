{
 "cells": [
  {
   "cell_type": "markdown",
   "id": "8f9dfc79",
   "metadata": {},
   "source": [
    "1.\n",
    "Write a program that takes four arguments - startdate, enddate and interval (n number of\n",
    "days) such that it returns an array of dates separated by the internal in any format\n",
    "specified in the 4th arguments."
   ]
  },
  {
   "cell_type": "code",
   "execution_count": 1,
   "id": "65579356",
   "metadata": {},
   "outputs": [
    {
     "name": "stdout",
     "output_type": "stream",
     "text": [
      "['2023/1/1', '2023/1/3', '2023/1/5', '2023/1/7', '2023/1/9', '2023/1/11', '2023/1/13', '2023/1/15', '2023/1/17', '2023/1/19', '2023/1/21', '2023/1/23', '2023/1/25', '2023/1/27', '2023/1/29', '2023/1/31']\n"
     ]
    }
   ],
   "source": [
    "start_date = '2023-01-01'\n",
    "end_date = '2023-01-31'\n",
    "interval = 2\n",
    "date_format = '%y/%m/%d'\n",
    "\n",
    "def date_split(date):\n",
    "    date_list = date.split('-')\n",
    "    y = int(date_list[0])\n",
    "    m = int(date_list[1])\n",
    "    d = int(date_list[2])\n",
    "    return y, m, d\n",
    "\n",
    "def date_list(start_date, end_date, interval, date_format):\n",
    "    y1, m1, d1 = date_split(start_date)\n",
    "    y2, m2, d2 = date_split(end_date)\n",
    "    \n",
    "    dates = []\n",
    "    while d2 >= d1:\n",
    "        date_now = f\"{y1}/{m1}/{d1}\"\n",
    "        dates.append(date_now)\n",
    "        d1 += interval\n",
    "    \n",
    "    return dates\n",
    "\n",
    "dates = date_list(start_date, end_date, interval, date_format)\n",
    "print(dates)"
   ]
  },
  {
   "cell_type": "markdown",
   "id": "b3771120",
   "metadata": {},
   "source": [
    "2-a.\n",
    "Write a code using Regex to breakdown string ”abc@grepsr.com” to an array\n",
    "[“abc”, “grepsr”, “com]”"
   ]
  },
  {
   "cell_type": "code",
   "execution_count": 2,
   "id": "585cacce",
   "metadata": {},
   "outputs": [
    {
     "name": "stdout",
     "output_type": "stream",
     "text": [
      "['abc', 'grepsr', 'com']\n"
     ]
    }
   ],
   "source": [
    "import re\n",
    "\n",
    "email = \"abc@grepsr.com\"\n",
    "regex_exp = r\"(.*[^@])@(.*[^\\.])\\.(.*)\"\n",
    "data = []\n",
    "\n",
    "match = re.search(regex_exp, email)\n",
    "data.append(match.group(1))\n",
    "data.append(match.group(2))\n",
    "data.append(match.group(3))\n",
    "print(data)"
   ]
  },
  {
   "cell_type": "markdown",
   "id": "bfada520",
   "metadata": {},
   "source": [
    "2.b.\n",
    "Given a string of length n using regex extract a substring starting from position\n",
    "index 3 to 5.\n",
    "Eg: 734rn3242\n",
    "Result: 4rn"
   ]
  },
  {
   "cell_type": "code",
   "execution_count": 3,
   "id": "23cb1d7f",
   "metadata": {},
   "outputs": [
    {
     "name": "stdout",
     "output_type": "stream",
     "text": [
      "4rn\n"
     ]
    }
   ],
   "source": [
    "import re\n",
    "\n",
    "string = '734rn3242'\n",
    "regex_exp = r\"^.{2}(.{3})\"\n",
    "\n",
    "match = re.search(regex_exp, string)\n",
    "data = match.group(1)\n",
    "print(data)"
   ]
  },
  {
   "cell_type": "markdown",
   "id": "b67f4bbc",
   "metadata": {},
   "source": [
    "4. Write a code to create a ‘CSV’ file named ‘laptop.csv’ with column names as listed:\n",
    "d.\n",
    "Title\n",
    "e.\n",
    "Price\n",
    "f.\n",
    "Brand\n",
    "from JSON data."
   ]
  },
  {
   "cell_type": "code",
   "execution_count": 4,
   "id": "4939b569",
   "metadata": {},
   "outputs": [],
   "source": [
    "import json\n",
    "import csv"
   ]
  },
  {
   "cell_type": "code",
   "execution_count": 5,
   "id": "469b874a",
   "metadata": {},
   "outputs": [
    {
     "name": "stdout",
     "output_type": "stream",
     "text": [
      "[{'id': 7, 'title': 'Samsung Galaxy Book', 'description': 'Samsung Galaxy Book S (2020) Laptop With Intel Lakefield Chip, 8GB of RAM Launched', 'price': 1499, 'discountPercentage': 4.15, 'rating': 4.25, 'stock': 50, 'brand': 'Samsung', 'category': 'laptops', 'thumbnail': 'https://cdn.dummyjson.com/product-images/7/thumbnail.jpg', 'images': ['https://cdn.dummyjson.com/product-images/7/1.jpg', 'https://cdn.dummyjson.com/product-images/7/2.jpg', 'https://cdn.dummyjson.com/product-images/7/3.jpg', 'https://cdn.dummyjson.com/product-images/7/thumbnail.jpg']}, {'id': 8, 'title': 'Microsoft Surface Laptop 4', 'description': 'Style and speed. Stand out on HD video calls backed by Studio Mics. Capture ideas on the vibrant touchscreen.', 'price': 1499, 'discountPercentage': 10.23, 'rating': 4.43, 'stock': 68, 'brand': 'Microsoft Surface', 'category': 'laptops', 'thumbnail': 'https://cdn.dummyjson.com/product-images/8/thumbnail.jpg', 'images': ['https://cdn.dummyjson.com/product-images/8/1.jpg', 'https://cdn.dummyjson.com/product-images/8/2.jpg', 'https://cdn.dummyjson.com/product-images/8/3.jpg', 'https://cdn.dummyjson.com/product-images/8/4.jpg', 'https://cdn.dummyjson.com/product-images/8/thumbnail.jpg']}, {'id': 10, 'title': 'HP Pavilion 15-DK1056WM', 'description': 'HP Pavilion 15-DK1056WM Gaming Laptop 10th Gen Core i5, 8GB, 256GB SSD, GTX 1650 4GB, Windows 10', 'price': 1099, 'discountPercentage': 6.18, 'rating': 4.43, 'stock': 89, 'brand': 'HP Pavilion', 'category': 'laptops', 'thumbnail': 'https://cdn.dummyjson.com/product-images/10/thumbnail.jpeg', 'images': ['https://cdn.dummyjson.com/product-images/10/1.jpg', 'https://cdn.dummyjson.com/product-images/10/2.jpg', 'https://cdn.dummyjson.com/product-images/10/3.jpg', 'https://cdn.dummyjson.com/product-images/10/thumbnail.jpeg']}]\n",
      "'laptop.csv' file created successfully.\n"
     ]
    }
   ],
   "source": [
    "with open('laptop.json', 'r') as file:\n",
    "    data = json.load(file)\n",
    "    \n",
    "products = data['products']\n",
    "print(products)\n",
    "\n",
    "rows = [[product['title'], product['price'], product['brand']] for product in products]\n",
    "\n",
    "with open('laptop.csv', 'w', newline='') as file:\n",
    "    fields = ['Title', 'Price', 'Brand']\n",
    "    writer = csv.writer(file)\n",
    "    \n",
    "    writer.writerow(fields)\n",
    "    writer.writerows(rows)\n",
    "    \n",
    "print(\"'laptop.csv' file created successfully.\")"
   ]
  },
  {
   "cell_type": "markdown",
   "id": "69d53782",
   "metadata": {},
   "source": [
    "6. Write a crawler to crawl data from the site pypi .\n",
    "steps to follow are as follows.\n",
    "Generate a list of packages associated with the keyword “date” and sort it by the last\n",
    "updated date.\n",
    "Capture the below given lists of data points for all the packages up to page 3.\n",
    "Package Name\n",
    "Installation Instruction\n",
    "Released Date\n",
    "Short Description\n",
    "Author\n",
    "Maintainer (Separate by | if more than one maintainer)"
   ]
  },
  {
   "cell_type": "code",
   "execution_count": null,
   "id": "495b270d",
   "metadata": {},
   "outputs": [],
   "source": [
    "!pip install lxml\n",
    "!pip install requests"
   ]
  },
  {
   "cell_type": "code",
   "execution_count": 6,
   "id": "35067294",
   "metadata": {},
   "outputs": [],
   "source": [
    "import requests\n",
    "from lxml import html\n",
    "import os\n",
    "import json"
   ]
  },
  {
   "cell_type": "code",
   "execution_count": 7,
   "id": "f5264549",
   "metadata": {},
   "outputs": [
    {
     "name": "stdout",
     "output_type": "stream",
     "text": [
      "C:\\Users\\basne\\tutorial\\task\\aarchan-grepsr\n"
     ]
    }
   ],
   "source": [
    "#create directories to save html pages\n",
    "current_dir = os.getcwd()\n",
    "print(current_dir)\n",
    "new_dir1 = os.path.join(current_dir, r\"pages\")\n",
    "if not os.path.exists(new_dir1):\n",
    "    os.makedirs(new_dir1)\n",
    "    \n",
    "new_dir2 = os.path.join(current_dir, r\"packages\")\n",
    "if not os.path.exists(new_dir2):\n",
    "    os.makedirs(new_dir2)"
   ]
  },
  {
   "cell_type": "code",
   "execution_count": 8,
   "id": "5da170ee",
   "metadata": {},
   "outputs": [
    {
     "name": "stdout",
     "output_type": "stream",
     "text": [
      "<Response [200]>\n",
      "<Response [200]>\n",
      "<Response [200]>\n",
      "['/project/django-log-tracker/', '/project/django-log-tracker/', '/project/django-log-tracker/', '/project/django-log-tracker/', '/project/django-log-tracker/', '/project/django-log-tracker/', '/project/django-log-tracker/', '/project/django-log-tracker/', '/project/django-log-tracker/', '/project/django-log-tracker/', '/project/django-log-tracker/', '/project/django-log-tracker/', '/project/django-log-tracker/', '/project/django-log-tracker/', '/project/django-log-tracker/', '/project/django-log-tracker/', '/project/django-log-tracker/', '/project/django-log-tracker/', '/project/django-log-tracker/', '/project/django-log-tracker/', '/project/oarepo-runtime/', '/project/oarepo-runtime/', '/project/oarepo-runtime/', '/project/oarepo-runtime/', '/project/oarepo-runtime/', '/project/oarepo-runtime/', '/project/oarepo-runtime/', '/project/oarepo-runtime/', '/project/oarepo-runtime/', '/project/oarepo-runtime/', '/project/oarepo-runtime/', '/project/oarepo-runtime/', '/project/oarepo-runtime/', '/project/oarepo-runtime/', '/project/oarepo-runtime/', '/project/oarepo-runtime/', '/project/oarepo-runtime/', '/project/oarepo-runtime/', '/project/oarepo-runtime/', '/project/oarepo-runtime/', '/project/odoo-addon-mrp-multi-level/', '/project/odoo-addon-mrp-multi-level/', '/project/odoo-addon-mrp-multi-level/', '/project/odoo-addon-mrp-multi-level/', '/project/odoo-addon-mrp-multi-level/', '/project/odoo-addon-mrp-multi-level/', '/project/odoo-addon-mrp-multi-level/', '/project/odoo-addon-mrp-multi-level/', '/project/odoo-addon-mrp-multi-level/', '/project/odoo-addon-mrp-multi-level/', '/project/odoo-addon-mrp-multi-level/', '/project/odoo-addon-mrp-multi-level/', '/project/odoo-addon-mrp-multi-level/', '/project/odoo-addon-mrp-multi-level/', '/project/odoo-addon-mrp-multi-level/', '/project/odoo-addon-mrp-multi-level/', '/project/odoo-addon-mrp-multi-level/', '/project/odoo-addon-mrp-multi-level/', '/project/odoo-addon-mrp-multi-level/', '/project/odoo-addon-mrp-multi-level/']\n"
     ]
    }
   ],
   "source": [
    "#using name and values method in the url to access required pages (search 'date'->sort by 'last updated'->page number) and return a list of links of packages\n",
    "\n",
    "search_by_date = \"q=date\"\n",
    "sort_by_date = \"o=-created\"\n",
    "pagination = [\"page=1\", \"page=2\", \"page=3\"]\n",
    "\n",
    "def get_package_links():\n",
    "    landing_links = []\n",
    "    for index, page in enumerate(pagination):\n",
    "        url = f\"https://pypi.org/search/?{search_by_date}&{sort_by_date}&{page}\"\n",
    "        response = requests.get(url)\n",
    "        print(response)\n",
    "        html_content = response.content\n",
    "\n",
    "        with open(f\"pages/page_{index}.html\", \"wb\") as file:\n",
    "            file.write(html_content)\n",
    "\n",
    "        element = html.fromstring(html_content)\n",
    "\n",
    "        links_list = element.xpath(\"//a[@class='package-snippet']\")\n",
    "    #     print(links_list)\n",
    "\n",
    "        for links in links_list:\n",
    "            links = links_list[0].get('href')\n",
    "            landing_links.append(links)\n",
    "\n",
    "#     print(landing_links)\n",
    "    return landing_links\n",
    "\n",
    "package_links = get_package_links()\n",
    "print(package_links)"
   ]
  },
  {
   "cell_type": "code",
   "execution_count": 9,
   "id": "f10a4f9b",
   "metadata": {},
   "outputs": [
    {
     "name": "stdout",
     "output_type": "stream",
     "text": [
      "<Response [200]>\n",
      "<Response [200]>\n",
      "<Response [200]>\n",
      "<Response [200]>\n",
      "<Response [200]>\n",
      "<Response [200]>\n",
      "<Response [200]>\n",
      "<Response [200]>\n",
      "<Response [200]>\n",
      "<Response [200]>\n",
      "<Response [200]>\n",
      "<Response [200]>\n",
      "<Response [200]>\n",
      "<Response [200]>\n",
      "<Response [200]>\n",
      "<Response [200]>\n",
      "<Response [200]>\n",
      "<Response [200]>\n",
      "<Response [200]>\n",
      "<Response [200]>\n",
      "<Response [200]>\n",
      "<Response [200]>\n",
      "<Response [200]>\n",
      "<Response [200]>\n",
      "<Response [200]>\n",
      "<Response [200]>\n",
      "<Response [200]>\n",
      "<Response [200]>\n",
      "<Response [200]>\n",
      "<Response [200]>\n",
      "<Response [200]>\n",
      "<Response [200]>\n",
      "<Response [200]>\n",
      "<Response [200]>\n",
      "<Response [200]>\n",
      "<Response [200]>\n",
      "<Response [200]>\n",
      "<Response [200]>\n",
      "<Response [200]>\n",
      "<Response [200]>\n",
      "<Response [200]>\n",
      "<Response [200]>\n",
      "<Response [200]>\n",
      "<Response [200]>\n",
      "<Response [200]>\n",
      "<Response [200]>\n",
      "<Response [200]>\n",
      "<Response [200]>\n",
      "<Response [200]>\n",
      "<Response [200]>\n",
      "<Response [200]>\n",
      "<Response [200]>\n",
      "<Response [200]>\n",
      "<Response [200]>\n",
      "<Response [200]>\n",
      "<Response [200]>\n",
      "<Response [200]>\n",
      "<Response [200]>\n",
      "<Response [200]>\n",
      "<Response [200]>\n",
      "[{'package_name': 'django-log-tracker 1.0.4', 'installation_instruction': 'pip install django-log-tracker', 'released_date': 'Feb 21, 2024', 'author': 'ragib_sh', 'maintainers': 'ragib_sh'}, {'package_name': 'django-log-tracker 1.0.4', 'installation_instruction': 'pip install django-log-tracker', 'released_date': 'Feb 21, 2024', 'author': 'ragib_sh', 'maintainers': 'ragib_sh'}, {'package_name': 'django-log-tracker 1.0.4', 'installation_instruction': 'pip install django-log-tracker', 'released_date': 'Feb 21, 2024', 'author': 'ragib_sh', 'maintainers': 'ragib_sh'}, {'package_name': 'django-log-tracker 1.0.4', 'installation_instruction': 'pip install django-log-tracker', 'released_date': 'Feb 21, 2024', 'author': 'ragib_sh', 'maintainers': 'ragib_sh'}, {'package_name': 'django-log-tracker 1.0.4', 'installation_instruction': 'pip install django-log-tracker', 'released_date': 'Feb 21, 2024', 'author': 'ragib_sh', 'maintainers': 'ragib_sh'}, {'package_name': 'django-log-tracker 1.0.4', 'installation_instruction': 'pip install django-log-tracker', 'released_date': 'Feb 21, 2024', 'author': 'ragib_sh', 'maintainers': 'ragib_sh'}, {'package_name': 'django-log-tracker 1.0.4', 'installation_instruction': 'pip install django-log-tracker', 'released_date': 'Feb 21, 2024', 'author': 'ragib_sh', 'maintainers': 'ragib_sh'}, {'package_name': 'django-log-tracker 1.0.4', 'installation_instruction': 'pip install django-log-tracker', 'released_date': 'Feb 21, 2024', 'author': 'ragib_sh', 'maintainers': 'ragib_sh'}, {'package_name': 'django-log-tracker 1.0.4', 'installation_instruction': 'pip install django-log-tracker', 'released_date': 'Feb 21, 2024', 'author': 'ragib_sh', 'maintainers': 'ragib_sh'}, {'package_name': 'django-log-tracker 1.0.4', 'installation_instruction': 'pip install django-log-tracker', 'released_date': 'Feb 21, 2024', 'author': 'ragib_sh', 'maintainers': 'ragib_sh'}, {'package_name': 'django-log-tracker 1.0.4', 'installation_instruction': 'pip install django-log-tracker', 'released_date': 'Feb 21, 2024', 'author': 'ragib_sh', 'maintainers': 'ragib_sh'}, {'package_name': 'django-log-tracker 1.0.4', 'installation_instruction': 'pip install django-log-tracker', 'released_date': 'Feb 21, 2024', 'author': 'ragib_sh', 'maintainers': 'ragib_sh'}, {'package_name': 'django-log-tracker 1.0.4', 'installation_instruction': 'pip install django-log-tracker', 'released_date': 'Feb 21, 2024', 'author': 'ragib_sh', 'maintainers': 'ragib_sh'}, {'package_name': 'django-log-tracker 1.0.4', 'installation_instruction': 'pip install django-log-tracker', 'released_date': 'Feb 21, 2024', 'author': 'ragib_sh', 'maintainers': 'ragib_sh'}, {'package_name': 'django-log-tracker 1.0.4', 'installation_instruction': 'pip install django-log-tracker', 'released_date': 'Feb 21, 2024', 'author': 'ragib_sh', 'maintainers': 'ragib_sh'}, {'package_name': 'django-log-tracker 1.0.4', 'installation_instruction': 'pip install django-log-tracker', 'released_date': 'Feb 21, 2024', 'author': 'ragib_sh', 'maintainers': 'ragib_sh'}, {'package_name': 'django-log-tracker 1.0.4', 'installation_instruction': 'pip install django-log-tracker', 'released_date': 'Feb 21, 2024', 'author': 'ragib_sh', 'maintainers': 'ragib_sh'}, {'package_name': 'django-log-tracker 1.0.4', 'installation_instruction': 'pip install django-log-tracker', 'released_date': 'Feb 21, 2024', 'author': 'ragib_sh', 'maintainers': 'ragib_sh'}, {'package_name': 'django-log-tracker 1.0.4', 'installation_instruction': 'pip install django-log-tracker', 'released_date': 'Feb 21, 2024', 'author': 'ragib_sh', 'maintainers': 'ragib_sh'}, {'package_name': 'django-log-tracker 1.0.4', 'installation_instruction': 'pip install django-log-tracker', 'released_date': 'Feb 21, 2024', 'author': 'ragib_sh', 'maintainers': 'ragib_sh'}, {'package_name': 'oarepo-runtime 1.5.11', 'installation_instruction': 'pip install oarepo-runtime', 'released_date': 'Feb 21, 2024', 'author': None, 'maintainers': 'oarepo'}, {'package_name': 'oarepo-runtime 1.5.11', 'installation_instruction': 'pip install oarepo-runtime', 'released_date': 'Feb 21, 2024', 'author': None, 'maintainers': 'oarepo'}, {'package_name': 'oarepo-runtime 1.5.11', 'installation_instruction': 'pip install oarepo-runtime', 'released_date': 'Feb 21, 2024', 'author': None, 'maintainers': 'oarepo'}, {'package_name': 'oarepo-runtime 1.5.11', 'installation_instruction': 'pip install oarepo-runtime', 'released_date': 'Feb 21, 2024', 'author': None, 'maintainers': 'oarepo'}, {'package_name': 'oarepo-runtime 1.5.11', 'installation_instruction': 'pip install oarepo-runtime', 'released_date': 'Feb 21, 2024', 'author': None, 'maintainers': 'oarepo'}, {'package_name': 'oarepo-runtime 1.5.11', 'installation_instruction': 'pip install oarepo-runtime', 'released_date': 'Feb 21, 2024', 'author': None, 'maintainers': 'oarepo'}, {'package_name': 'oarepo-runtime 1.5.11', 'installation_instruction': 'pip install oarepo-runtime', 'released_date': 'Feb 21, 2024', 'author': None, 'maintainers': 'oarepo'}, {'package_name': 'oarepo-runtime 1.5.11', 'installation_instruction': 'pip install oarepo-runtime', 'released_date': 'Feb 21, 2024', 'author': None, 'maintainers': 'oarepo'}, {'package_name': 'oarepo-runtime 1.5.11', 'installation_instruction': 'pip install oarepo-runtime', 'released_date': 'Feb 21, 2024', 'author': None, 'maintainers': 'oarepo'}, {'package_name': 'oarepo-runtime 1.5.11', 'installation_instruction': 'pip install oarepo-runtime', 'released_date': 'Feb 21, 2024', 'author': None, 'maintainers': 'oarepo'}, {'package_name': 'oarepo-runtime 1.5.11', 'installation_instruction': 'pip install oarepo-runtime', 'released_date': 'Feb 21, 2024', 'author': None, 'maintainers': 'oarepo'}, {'package_name': 'oarepo-runtime 1.5.11', 'installation_instruction': 'pip install oarepo-runtime', 'released_date': 'Feb 21, 2024', 'author': None, 'maintainers': 'oarepo'}, {'package_name': 'oarepo-runtime 1.5.11', 'installation_instruction': 'pip install oarepo-runtime', 'released_date': 'Feb 21, 2024', 'author': None, 'maintainers': 'oarepo'}, {'package_name': 'oarepo-runtime 1.5.11', 'installation_instruction': 'pip install oarepo-runtime', 'released_date': 'Feb 21, 2024', 'author': None, 'maintainers': 'oarepo'}, {'package_name': 'oarepo-runtime 1.5.11', 'installation_instruction': 'pip install oarepo-runtime', 'released_date': 'Feb 21, 2024', 'author': None, 'maintainers': 'oarepo'}, {'package_name': 'oarepo-runtime 1.5.11', 'installation_instruction': 'pip install oarepo-runtime', 'released_date': 'Feb 21, 2024', 'author': None, 'maintainers': 'oarepo'}, {'package_name': 'oarepo-runtime 1.5.11', 'installation_instruction': 'pip install oarepo-runtime', 'released_date': 'Feb 21, 2024', 'author': None, 'maintainers': 'oarepo'}, {'package_name': 'oarepo-runtime 1.5.11', 'installation_instruction': 'pip install oarepo-runtime', 'released_date': 'Feb 21, 2024', 'author': None, 'maintainers': 'oarepo'}, {'package_name': 'oarepo-runtime 1.5.11', 'installation_instruction': 'pip install oarepo-runtime', 'released_date': 'Feb 21, 2024', 'author': None, 'maintainers': 'oarepo'}, {'package_name': 'oarepo-runtime 1.5.11', 'installation_instruction': 'pip install oarepo-runtime', 'released_date': 'Feb 21, 2024', 'author': None, 'maintainers': 'oarepo'}, {'package_name': 'odoo-addon-mrp-multi-level 16.0.1.3.5', 'installation_instruction': 'pip install odoo-addon-mrp-multi-level', 'released_date': 'Feb 21, 2024', 'author': 'Ucamco, ForgeFlow, Odoo Community Association (OCA)', 'maintainers': 'OCA'}, {'package_name': 'odoo-addon-mrp-multi-level 16.0.1.3.5', 'installation_instruction': 'pip install odoo-addon-mrp-multi-level', 'released_date': 'Feb 21, 2024', 'author': 'Ucamco, ForgeFlow, Odoo Community Association (OCA)', 'maintainers': 'OCA'}, {'package_name': 'odoo-addon-mrp-multi-level 16.0.1.3.5', 'installation_instruction': 'pip install odoo-addon-mrp-multi-level', 'released_date': 'Feb 21, 2024', 'author': 'Ucamco, ForgeFlow, Odoo Community Association (OCA)', 'maintainers': 'OCA'}, {'package_name': 'odoo-addon-mrp-multi-level 16.0.1.3.5', 'installation_instruction': 'pip install odoo-addon-mrp-multi-level', 'released_date': 'Feb 21, 2024', 'author': 'Ucamco, ForgeFlow, Odoo Community Association (OCA)', 'maintainers': 'OCA'}, {'package_name': 'odoo-addon-mrp-multi-level 16.0.1.3.5', 'installation_instruction': 'pip install odoo-addon-mrp-multi-level', 'released_date': 'Feb 21, 2024', 'author': 'Ucamco, ForgeFlow, Odoo Community Association (OCA)', 'maintainers': 'OCA'}, {'package_name': 'odoo-addon-mrp-multi-level 16.0.1.3.5', 'installation_instruction': 'pip install odoo-addon-mrp-multi-level', 'released_date': 'Feb 21, 2024', 'author': 'Ucamco, ForgeFlow, Odoo Community Association (OCA)', 'maintainers': 'OCA'}, {'package_name': 'odoo-addon-mrp-multi-level 16.0.1.3.5', 'installation_instruction': 'pip install odoo-addon-mrp-multi-level', 'released_date': 'Feb 21, 2024', 'author': 'Ucamco, ForgeFlow, Odoo Community Association (OCA)', 'maintainers': 'OCA'}, {'package_name': 'odoo-addon-mrp-multi-level 16.0.1.3.5', 'installation_instruction': 'pip install odoo-addon-mrp-multi-level', 'released_date': 'Feb 21, 2024', 'author': 'Ucamco, ForgeFlow, Odoo Community Association (OCA)', 'maintainers': 'OCA'}, {'package_name': 'odoo-addon-mrp-multi-level 16.0.1.3.5', 'installation_instruction': 'pip install odoo-addon-mrp-multi-level', 'released_date': 'Feb 21, 2024', 'author': 'Ucamco, ForgeFlow, Odoo Community Association (OCA)', 'maintainers': 'OCA'}, {'package_name': 'odoo-addon-mrp-multi-level 16.0.1.3.5', 'installation_instruction': 'pip install odoo-addon-mrp-multi-level', 'released_date': 'Feb 21, 2024', 'author': 'Ucamco, ForgeFlow, Odoo Community Association (OCA)', 'maintainers': 'OCA'}, {'package_name': 'odoo-addon-mrp-multi-level 16.0.1.3.5', 'installation_instruction': 'pip install odoo-addon-mrp-multi-level', 'released_date': 'Feb 21, 2024', 'author': 'Ucamco, ForgeFlow, Odoo Community Association (OCA)', 'maintainers': 'OCA'}, {'package_name': 'odoo-addon-mrp-multi-level 16.0.1.3.5', 'installation_instruction': 'pip install odoo-addon-mrp-multi-level', 'released_date': 'Feb 21, 2024', 'author': 'Ucamco, ForgeFlow, Odoo Community Association (OCA)', 'maintainers': 'OCA'}, {'package_name': 'odoo-addon-mrp-multi-level 16.0.1.3.5', 'installation_instruction': 'pip install odoo-addon-mrp-multi-level', 'released_date': 'Feb 21, 2024', 'author': 'Ucamco, ForgeFlow, Odoo Community Association (OCA)', 'maintainers': 'OCA'}, {'package_name': 'odoo-addon-mrp-multi-level 16.0.1.3.5', 'installation_instruction': 'pip install odoo-addon-mrp-multi-level', 'released_date': 'Feb 21, 2024', 'author': 'Ucamco, ForgeFlow, Odoo Community Association (OCA)', 'maintainers': 'OCA'}, {'package_name': 'odoo-addon-mrp-multi-level 16.0.1.3.5', 'installation_instruction': 'pip install odoo-addon-mrp-multi-level', 'released_date': 'Feb 21, 2024', 'author': 'Ucamco, ForgeFlow, Odoo Community Association (OCA)', 'maintainers': 'OCA'}, {'package_name': 'odoo-addon-mrp-multi-level 16.0.1.3.5', 'installation_instruction': 'pip install odoo-addon-mrp-multi-level', 'released_date': 'Feb 21, 2024', 'author': 'Ucamco, ForgeFlow, Odoo Community Association (OCA)', 'maintainers': 'OCA'}, {'package_name': 'odoo-addon-mrp-multi-level 16.0.1.3.5', 'installation_instruction': 'pip install odoo-addon-mrp-multi-level', 'released_date': 'Feb 21, 2024', 'author': 'Ucamco, ForgeFlow, Odoo Community Association (OCA)', 'maintainers': 'OCA'}, {'package_name': 'odoo-addon-mrp-multi-level 16.0.1.3.5', 'installation_instruction': 'pip install odoo-addon-mrp-multi-level', 'released_date': 'Feb 21, 2024', 'author': 'Ucamco, ForgeFlow, Odoo Community Association (OCA)', 'maintainers': 'OCA'}, {'package_name': 'odoo-addon-mrp-multi-level 16.0.1.3.5', 'installation_instruction': 'pip install odoo-addon-mrp-multi-level', 'released_date': 'Feb 21, 2024', 'author': 'Ucamco, ForgeFlow, Odoo Community Association (OCA)', 'maintainers': 'OCA'}, {'package_name': 'odoo-addon-mrp-multi-level 16.0.1.3.5', 'installation_instruction': 'pip install odoo-addon-mrp-multi-level', 'released_date': 'Feb 21, 2024', 'author': 'Ucamco, ForgeFlow, Odoo Community Association (OCA)', 'maintainers': 'OCA'}]\n",
      "'pypi_data_list.json' created successfully.\n"
     ]
    }
   ],
   "source": [
    "#extracted required data from each page(obtained from list of links of packages) as list of dictionaries using xpath method\n",
    "def extract_data():\n",
    "    data_list = []\n",
    "    try:\n",
    "        for index, link in enumerate(package_links):\n",
    "            url = f\"https://pypi.org{link}\"\n",
    "            response = requests.get(url)\n",
    "            print(response)\n",
    "            html_content = response.content\n",
    "\n",
    "            with open(f\"packages/package_{index}.html\", \"wb\") as file:\n",
    "                file.write(html_content)\n",
    "\n",
    "            element = html.fromstring(html_content)\n",
    "\n",
    "            name = element.xpath(\"//div[@class='package-header__left']//h1[@class='package-header__name']//text()\")\n",
    "        #     print(name)\n",
    "            instruction = element.xpath(\"//span[@id='pip-command']//text()\")\n",
    "        #     print(instruction)\n",
    "            date = element.xpath(\"//p[@class='package-header__date']//time//text()\")\n",
    "        #     print(date)\n",
    "            description = element.xpath(\"//p[@class='package-description__summary']//text()\")\n",
    "        #     print(description)\n",
    "            author = element.xpath(\"//div[@class='sidebar-section'][4]//p[2]//a//text()\")\n",
    "        #     print(author)\n",
    "            maintainers_list = element.xpath(\"//span[@class='sidebar-section__user-gravatar-text']//text()\")\n",
    "            l = int(len(maintainers_list)/2)\n",
    "            maintainers = maintainers_list[0:l]\n",
    "            maintainer = [x.strip() for x in maintainers]\n",
    "        #     print(maintainers)\n",
    "            data = {\n",
    "                \"package_name\": name[0].strip() if name else None,\n",
    "                \"installation_instruction\": instruction[0].strip() if instruction else None,\n",
    "                \"released_date\": date[0].strip() if date else None,\n",
    "                \"author\": author[0] if author else None,\n",
    "                \"maintainers\": '|'.join(maintainer) if maintainer else None\n",
    "            }\n",
    "            data_list.append(data)\n",
    "\n",
    "    except:\n",
    "        pass\n",
    "    \n",
    "    return data_list\n",
    "\n",
    "data_list = extract_data()\n",
    "print(data_list)\n",
    "\n",
    "#save to json file\n",
    "with open(\"pypi_data_list.json\", \"w\") as file:\n",
    "    json.dump(data_list, file)\n",
    "    \n",
    "print(\"'pypi_data_list.json' created successfully.\")"
   ]
  },
  {
   "cell_type": "code",
   "execution_count": null,
   "id": "44359953",
   "metadata": {},
   "outputs": [],
   "source": []
  },
  {
   "cell_type": "code",
   "execution_count": null,
   "id": "0f18b649",
   "metadata": {},
   "outputs": [],
   "source": []
  }
 ],
 "metadata": {
  "kernelspec": {
   "display_name": "Python 3 (ipykernel)",
   "language": "python",
   "name": "python3"
  },
  "language_info": {
   "codemirror_mode": {
    "name": "ipython",
    "version": 3
   },
   "file_extension": ".py",
   "mimetype": "text/x-python",
   "name": "python",
   "nbconvert_exporter": "python",
   "pygments_lexer": "ipython3",
   "version": "3.10.5"
  }
 },
 "nbformat": 4,
 "nbformat_minor": 5
}
